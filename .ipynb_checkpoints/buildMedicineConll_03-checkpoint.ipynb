{
 "cells": [
  {
   "cell_type": "code",
   "execution_count": 1,
   "metadata": {},
   "outputs": [
    {
     "name": "stdout",
     "output_type": "stream",
     "text": [
      "pmc_conll_03/conll_03/eng.testa\n",
      "writing pmc_conll_03/conll_03/eng.testa ...\n",
      "0/200\n",
      "100/200\n",
      "combining ['pmc_conll_03/conll_03/eng.testa', '/home/vtssogari/project/corps/conll_03/eng.testa']\n",
      "writing to final_corps/conll_03/eng.testa\n",
      "pmc_conll_03/conll_03/eng.testb\n",
      "writing pmc_conll_03/conll_03/eng.testb ...\n",
      "0/200\n",
      "100/200\n",
      "combining ['pmc_conll_03/conll_03/eng.testb', '/home/vtssogari/project/corps/conll_03/eng.testb']\n",
      "writing to final_corps/conll_03/eng.testb\n",
      "pmc_conll_03/conll_03/eng.train\n",
      "writing pmc_conll_03/conll_03/eng.train ...\n",
      "0/1000\n",
      "100/1000\n",
      "200/1000\n",
      "300/1000\n",
      "400/1000\n",
      "500/1000\n",
      "600/1000\n",
      "700/1000\n",
      "800/1000\n",
      "900/1000\n",
      "combining ['pmc_conll_03/conll_03/eng.train', '/home/vtssogari/project/corps/conll_03/eng.train']\n",
      "writing to final_corps/conll_03/eng.train\n"
     ]
    }
   ],
   "source": [
    "test_corps_name = \"pmc_ner_corps_test.json\"\n",
    "training_corps_name = \"pmc_ner_corps_train.json\"\n",
    "label = 'MEDICINE'\n",
    "\n",
    "conll_03_dir = 'corps/conll_03/' #internal\n",
    "pmc_conll_03_output_folder = 'pmc_conll_03' #internal\n",
    "final_output_dir = \"final_corps/conll_03/\" #internal\n",
    "corps = [(test_corps_name,'eng.testa',200), (test_corps_name, 'eng.testb',200), (training_corps_name,'eng.train', 1000)]\n",
    "\n",
    "\n",
    "from jsonCorps2conll03 import mkdir, convertJson2Conll_03, combineFiles\n",
    "mkdir(pmc_conll_03_output_folder)\n",
    "mkdir(final_output_dir)\n",
    "for corp in corps:\n",
    "    json_corps_name, output_corps_name, maxrow = corp\n",
    "    pmc_corps = convertJson2Conll_03(json_corps_name, pmc_conll_03_output_folder, output_corps_name, label, max=maxrow )\n",
    "    combineFiles([pmc_corps, conll_03_dir+output_corps_name], final_output_dir + output_corps_name)\n"
   ]
  },
  {
   "cell_type": "code",
   "execution_count": null,
   "metadata": {},
   "outputs": [],
   "source": []
  }
 ],
 "metadata": {
  "kernelspec": {
   "display_name": "Python 3",
   "language": "python",
   "name": "python3"
  },
  "language_info": {
   "codemirror_mode": {
    "name": "ipython",
    "version": 3
   },
   "file_extension": ".py",
   "mimetype": "text/x-python",
   "name": "python",
   "nbconvert_exporter": "python",
   "pygments_lexer": "ipython3",
   "version": "3.7.1"
  }
 },
 "nbformat": 4,
 "nbformat_minor": 2
}
