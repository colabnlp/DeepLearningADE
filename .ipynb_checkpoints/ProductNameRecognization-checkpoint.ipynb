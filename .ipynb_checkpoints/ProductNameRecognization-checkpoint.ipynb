{
 "cells": [
  {
   "cell_type": "markdown",
   "metadata": {},
   "source": [
    "## Download NDC Drug names and PMC related articles"
   ]
  },
  {
   "cell_type": "markdown",
   "metadata": {},
   "source": [
    "### Training set : The European Bioinformatics Institute (EMBL-EBI) PMC articles\n",
    "#### Product Name : 30 \n",
    "#### Texts context: 1,700"
   ]
  },
  {
   "cell_type": "markdown",
   "metadata": {},
   "source": [
    "#### Example Training set\n",
    "\n",
    "```\n",
    "{\"keyword\": \"olmesartan medoxomil\", \"texts\": \"A rapid, simple and sensitive high-performance liquid chromatography (HPLC) method has been developed for quantification of olmesartan medoxomil (OLM) and amlodipine besylate (AM) in plasma. The assay enables the measurement of OLM and AM for therapeutic drug monitoring with a minimum detectable limit of 2 ng mL. The method involves a simple, one-step extraction procedure and analytical recovery was above 50%. The separation was performed on an analytical 250 \\u00d7 4.6 mm Eurospher 100(-5) C18 column. The wavelength was set at 239 nm. The mobile phase was a mixture of acetonitrile:0.05 M ammonium acetate buffer: 0.1 mL triethylamine at pH 6.8 was selected at a flow rate of 1.0 mL min. The calibration curve for the determination of OLM and AM in plasma was linear over the range 2-2500 and 8-10,000 ng mL AM and OLM. The coefficients of variation for interday and intraday assay were found to be <15%. The method can be applied to a pharmacokinetic and pharmacodynamic study of OLM and AM in a combined dosage form.\"}\n",
    "{\"keyword\": \"Carvedilol\", \"texts\": \"Meta-Analysis Comparing Metoprolol and Carvedilol on Mortality Benefits in Patients With Acute Myocardial Infarction.\"}\n",
    "{\"keyword\": \"Carvedilol\", \"texts\": \"Carvedilol for the treatment of red scrotum syndrome.\"}\n",
    "...\n",
    "\n",
    "```"
   ]
  },
  {
   "cell_type": "code",
   "execution_count": null,
   "metadata": {},
   "outputs": [
    {
     "name": "stdout",
     "output_type": "stream",
     "text": [
      "ndctext.zip\n",
      "699 train_x\n",
      "175 test_x\n",
      " keyword Nausea Vomiting load...\n",
      "0 found\n",
      " keyword Pear load...\n",
      "49 found\n",
      " keyword Lithium Carbonate load...\n",
      "29 found\n",
      " keyword Buprenorphine load...\n",
      "138 found\n",
      " keyword Myoview load...\n",
      "34 found\n",
      " keyword GRAPHITES load...\n",
      "0 found\n",
      " keyword Tizanidine load...\n",
      "64 found\n",
      " keyword Nitrofurantoin Macrocrystals load...\n",
      "0 found\n",
      " keyword Rabofen DM load...\n",
      "0 found\n",
      " keyword Clindamycin hydrochloride load...\n",
      "12 found\n",
      " keyword Artificial Tears Lubricant Eye Drops load...\n",
      "0 found\n",
      " keyword Oxygen load...\n",
      "97 found\n",
      " keyword Regular Strength Aspirin EC load...\n",
      "0 found\n",
      " keyword Alert load...\n",
      "103 found\n",
      " keyword Raloxifene Hydrochloride load...\n",
      "3 found\n",
      " keyword CEPHALEXIN load...\n",
      "1 found\n",
      " keyword Prefest load...\n",
      "2 found\n",
      " keyword Nature Knows Allergy Relief For Kids load...\n",
      "0 found\n",
      " keyword NeutraCaine load...\n",
      "0 found\n",
      " keyword Leukotrap - AS-3 Solution load...\n",
      "0 found\n",
      " keyword Doxazosin mesylate load...\n",
      "13 found\n",
      " keyword Nitrofurantion load...\n",
      "7 found\n",
      " keyword 4 Kids Cold and Cough Nighttime load...\n",
      "0 found\n",
      " keyword Cough Formula Cough and Cold load...\n",
      "0 found\n",
      " keyword Unisom SleepTabs load...\n",
      "0 found\n",
      " keyword Quinapril load...\n",
      "32 found\n",
      " keyword Spine and Nerve Balance Core Formula load...\n",
      "0 found\n",
      " keyword Neutrogena Ultra Sheer Dry Touch load...\n",
      "0 found\n",
      " keyword Chlorpheniramine Maleate 4 mg load...\n",
      "0 found\n",
      " keyword Freshorize load...\n",
      "0 found\n",
      " keyword Minium Formica Special Order load...\n",
      "0 found\n",
      " keyword Eye Lubricant load...\n",
      "0 found\n",
      " keyword COMPRESSED, N.O.S. load...\n",
      "0 found\n",
      " keyword MOLD MIX 2 load...\n",
      "0 found\n",
      " keyword Kids Relief load...\n",
      "0 found\n",
      " keyword Ultrasol load...\n",
      "0 found\n",
      " keyword GADADERM Frozen Ice Advance Pain Relief load...\n",
      "0 found\n",
      " keyword honey lemon cough drops load...\n",
      "0 found\n",
      " keyword Awaken by Quality Choice Absolute Daily Moisturizer Broad Spectrum SPF 15 Sunscreen load...\n",
      "0 found\n",
      " keyword Primaquine Phosphate load...\n",
      "0 found\n",
      " keyword Methylprednisolone Sodium Succinate load...\n",
      "5 found\n",
      " keyword Bio Rock Water load...\n",
      "0 found\n",
      " keyword AT ONE WITH NATURE load...\n",
      "0 found\n",
      " keyword Finasteride load...\n",
      "75 found\n",
      " keyword Tacrolimus load...\n",
      "134 found\n",
      " keyword LEUKERAN load...\n",
      "0 found\n",
      " keyword Atenolol load...\n",
      "48 found\n",
      " keyword JAYJUN REAL WATER BRIGHTENING BLACK SLEEPING PACK load...\n",
      "0 found\n",
      " keyword Hackberry load...\n",
      "8 found\n",
      " keyword Bayberry load...\n",
      "39 found\n",
      " keyword Topiramate load...\n",
      "108 found\n",
      " keyword NEXT CHOICE load...\n",
      "0 found\n",
      " keyword Menthol cough drops load...\n",
      "0 found\n",
      " keyword Klor-Con M load...\n",
      "0 found\n",
      " keyword Mentha piperita load...\n",
      "236 found\n",
      " keyword Antibacterial load...\n",
      "102 found\n",
      " keyword Ferrum rosatum Graphites Special Order load...\n",
      "0 found\n",
      " keyword lice load...\n",
      "240 found\n",
      " keyword Australian Gold load...\n",
      "0 found\n",
      " keyword NightTime load...\n",
      "0 found\n",
      " keyword benzonatate load...\n",
      "40 found\n",
      " keyword stimulant laxative enteric coated load...\n",
      "0 found\n",
      " keyword Foltrate load...\n",
      "0 found\n",
      " keyword Blue Cap load...\n",
      "0 found\n",
      " keyword childrens fever reducer and pain reliever load...\n",
      "0 found\n",
      " keyword CLARINS Ever Matte Broad Spectrum SPF 15 Tint 112 load...\n",
      "0 found\n",
      " keyword Asepxia Oil-Free Acne Bar load...\n",
      "0 found\n",
      " keyword Headache Relief load...\n",
      "0 found\n",
      " keyword Cephalexin load...\n",
      "26 found\n",
      " keyword Pramipexole Dihydrochloride load...\n",
      "2 found\n",
      " keyword Inflammation load...\n",
      "68 found\n",
      " keyword AllergyEase Egg and Meat load...\n",
      "0 found\n",
      " keyword LBEL CONCENTRE TOTAL BASE SERUM ULTRA-FLUID FOUNDATION SPF 25 load...\n",
      "0 found\n",
      " keyword Liquid Sex load...\n",
      "0 found\n",
      " keyword Barley Smut load...\n",
      "0 found\n",
      " keyword ALL SEASON FACE load...\n",
      "0 found\n",
      " keyword Octreotide acetate load...\n",
      "46 found\n",
      " keyword FAGUS GRANDIFOLIA POLLEN load...\n",
      "0 found\n",
      " keyword Necon 777 load...\n",
      "0 found\n",
      " keyword LBEL EFFET PARFAIT HYDRATESS long-lasting intense moisturizing SPF 20 load...\n",
      "0 found\n",
      " keyword Pindolol load...\n",
      "26 found\n",
      " keyword Pollens - Weeds, Dock/Sorrel Mix load...\n",
      "0 found\n",
      " keyword Mucus Relief Severe Cold load...\n",
      "0 found\n",
      " keyword GABAPENTIN load...\n",
      "1 found\n",
      " keyword LIPITOR load...\n",
      "1 found\n",
      " keyword Formo Cresol load...\n",
      "0 found\n",
      " keyword Anti Wrinkle effect load...\n",
      "0 found\n",
      " keyword NAPROXEN load...\n",
      "0 found\n",
      " keyword Cuprum 12 Special Order load...\n",
      "0 found\n",
      " keyword Darifenacin Hydrobromide load...\n",
      "0 found\n",
      " keyword Kiehls Since 1851 Body Fuel Antiperspirant and Deodorant load...\n",
      "0 found\n",
      " keyword Temovate load...\n",
      "14 found\n",
      " keyword Guanfacine Hydrochloride load...\n",
      "1 found\n",
      " keyword Murex purpurea load...\n",
      "0 found\n",
      " keyword Magnesium Sulfate load...\n",
      "80 found\n",
      " keyword PANTOPRAZOLE SODIUM load...\n"
     ]
    }
   ],
   "source": [
    "from FetchNDC_PMC import downloadFile, unzip, readProduct, splitDataSet, download\n",
    "\n",
    "# download the ndc drug list \n",
    "filename = \"ndctext.zip\"\n",
    "url = \"https://www.accessdata.fda.gov/cder/ndctext.zip\"\n",
    "unzipdir = \"ndc\"\n",
    "productfile = unzipdir + \"/product.txt\"\n",
    "\n",
    "downloadFile(url, filename)\n",
    "unzip(filename, unzipdir)\n",
    "\n",
    "# read product csv file\n",
    "df = readProduct(productfile)\n",
    "fieldname = 'PROPRIETARYNAME'\n",
    "train_x, test_x = splitDataSet(df, fieldname)\n",
    "\n",
    "# download PMC articles related to drug names\n",
    "test_corps_name = \"pmc_ner_corps_test.json\"\n",
    "training_corps_name = \"pmc_ner_corps_train.json\"\n",
    "label = 'MEDICINE'\n",
    "\n",
    "\n",
    "download(test_x, test_corps_name)\n",
    "download(train_x, training_corps_name)"
   ]
  },
  {
   "cell_type": "code",
   "execution_count": null,
   "metadata": {},
   "outputs": [],
   "source": []
  },
  {
   "cell_type": "markdown",
   "metadata": {},
   "source": [
    "## Convert json pmc crops to conll_03 format and combine base conll_03 corps"
   ]
  },
  {
   "cell_type": "code",
   "execution_count": null,
   "metadata": {},
   "outputs": [],
   "source": [
    "from jsonCorps2conll03 import mkdir, convertJson2Conll_03, combineFiles\n",
    "\n",
    "conll_03_dir = 'corps/conll_03/' #internal\n",
    "pmc_conll_03_output_folder = 'pmc_conll_03' #internal\n",
    "final_output_dir = \"final_corps/conll_03/\" #internal\n",
    "corps = [(test_corps_name,'eng.testa',200), (test_corps_name, 'eng.testb',200), (training_corps_name,'eng.train', 1000)]\n",
    "\n",
    "mkdir(pmc_conll_03_output_folder)\n",
    "mkdir(final_output_dir)\n",
    "for corp in corps:\n",
    "    json_corps_name, output_corps_name, maxrow = corp\n",
    "    pmc_corps = convertJson2Conll_03(json_corps_name, pmc_conll_03_output_folder, output_corps_name, label, max=maxrow )\n",
    "    combineFiles([pmc_corps, conll_03_dir+output_corps_name], final_output_dir + output_corps_name)"
   ]
  },
  {
   "cell_type": "markdown",
   "metadata": {},
   "source": [
    "## Train the NER "
   ]
  },
  {
   "cell_type": "code",
   "execution_count": null,
   "metadata": {},
   "outputs": [],
   "source": [
    "from jsonCorps2conll03 import rmdir\n",
    "\n",
    "# this is the folder in which train, test and dev files reside\n",
    "conll_03_corps_folder = 'final_corps'\n",
    "model_output_folder = 'medicine-ner'\n",
    "rmdir(conll_03_corps_folder)\n",
    "train(conll_03_corps_folder, model_output_folder)"
   ]
  },
  {
   "cell_type": "markdown",
   "metadata": {},
   "source": [
    "## Test the NER model"
   ]
  },
  {
   "cell_type": "code",
   "execution_count": 10,
   "metadata": {},
   "outputs": [
    {
     "name": "stdout",
     "output_type": "stream",
     "text": [
      "2019-03-15 15:58:23,845 loading file medicine-ner/final-model.pt\n",
      "Sentence: \"\n",
      "Previous studies have demonstrated that glucocorticoid hormones, including dexamethasone, induced alterations in intracellular calcium homeostasis in acute lymphoblastic leukemia (ALL) cells. However, the mechanism by which intracellular calcium homeostasis participates in dexamethasone sensitivity and resistance on ALL cells remains elusive. Here, we found that treatment of cells with dexamethasone resulted in increased intracellular calcium concentrations through store-operated calcium entry stimulation, which was curtailed by store-operated calcium channel blockers. We show that BAPTA-AM, an intracellular Ca2+ chelator, synergistically enhances dexamethasone lethality in two human ALL cell lines and in three primary specimens. This effect correlated with the inhibition of the prosurvival kinase ERK1/2 signaling pathway. Chelating intracellular calcium with Bapta-AM or inhibiting ERK1/2 with PD98059 significantly potentiated dexamethasone-induced mitochondrial membrane potential collapse, reactive oxygen species production, cytochrome c release, caspase-3 activity, and cell death. Moreover, we show that thapsigargin elevates intracellular free calcium ion level, and activates ERK1/2 signaling, resulting in the inhibition of dexamethasone-induced ALL cells apoptosis. Together, these results indicate that calcium-related ERK1/2 signaling pathway contributes to protect cells from dexamethasone sensitivity by limiting mitochondrial apoptotic pathway. This report provides a novel resistance pathway underlying the regulatory effect of dexamethasone on ALL cells.\n",
      "\" - 194 Tokens\n",
      "The following NER tags are found:\n",
      "MEDICINE-span [32]: \"dexamethasone\"\n",
      "MEDICINE-span [49]: \"dexamethasone\"\n",
      "ORG-span [72]: \"BAPTA-AM,\"\n",
      "ORG-span [75]: \"Ca2+\"\n",
      "MEDICINE-span [79]: \"dexamethasone\"\n",
      "CARDINAL-span [82]: \"two\"\n",
      "CARDINAL-span [89]: \"three\"\n",
      "ORG-span [102]: \"ERK1/2\"\n",
      "ORG-span [109]: \"Bapta-AM\"\n",
      "ORG-span [112]: \"ERK1/2\"\n",
      "PRODUCT-span [114]: \"PD98059\"\n",
      "MEDICINE-span [138]: \"thapsigargin\"\n",
      "ORG-span [147]: \"ERK1/2\"\n",
      "ORG-span [164]: \"ERK1/2\"\n",
      "MEDICINE-span [172]: \"dexamethasone\"\n",
      "MEDICINE-span [191]: \"dexamethasone\"\n"
     ]
    }
   ],
   "source": [
    "from flair.data import Sentence\n",
    "from flair.models import SequenceTagger\n",
    "\n",
    "conll_03_corps_folder = 'final_corps'\n",
    "model_output_folder = 'medicine-ner'\n",
    "\n",
    "# make a sentence\n",
    "sentence = Sentence(\"\"\"\n",
    "Previous studies have demonstrated that glucocorticoid hormones, including dexamethasone, induced alterations in intracellular calcium homeostasis in acute lymphoblastic leukemia (ALL) cells. However, the mechanism by which intracellular calcium homeostasis participates in dexamethasone sensitivity and resistance on ALL cells remains elusive. Here, we found that treatment of cells with dexamethasone resulted in increased intracellular calcium concentrations through store-operated calcium entry stimulation, which was curtailed by store-operated calcium channel blockers. We show that BAPTA-AM, an intracellular Ca2+ chelator, synergistically enhances dexamethasone lethality in two human ALL cell lines and in three primary specimens. This effect correlated with the inhibition of the prosurvival kinase ERK1/2 signaling pathway. Chelating intracellular calcium with Bapta-AM or inhibiting ERK1/2 with PD98059 significantly potentiated dexamethasone-induced mitochondrial membrane potential collapse, reactive oxygen species production, cytochrome c release, caspase-3 activity, and cell death. Moreover, we show that thapsigargin elevates intracellular free calcium ion level, and activates ERK1/2 signaling, resulting in the inhibition of dexamethasone-induced ALL cells apoptosis. Together, these results indicate that calcium-related ERK1/2 signaling pathway contributes to protect cells from dexamethasone sensitivity by limiting mitochondrial apoptotic pathway. This report provides a novel resistance pathway underlying the regulatory effect of dexamethasone on ALL cells.\n",
    "\"\"\")\n",
    "# load the NER tagger\n",
    "tagger = SequenceTagger.load_from_file(model_output_folder + '/final-model.pt')\n",
    "\n",
    "# run NER over sentence\n",
    "tagger.predict(sentence)\n",
    "print(sentence)\n",
    "print('The following NER tags are found:')\n",
    "\n",
    "# iterate over entities and print\n",
    "for entity in sentence.get_spans('ner'):\n",
    "    print(entity)"
   ]
  },
  {
   "cell_type": "code",
   "execution_count": 11,
   "metadata": {},
   "outputs": [
    {
     "name": "stdout",
     "output_type": "stream",
     "text": [
      "2019-03-15 15:58:33,137 loading file medicine-ner/final-model.pt\n"
     ]
    }
   ],
   "source": [
    "from flair.data import Sentence\n",
    "from flair.models import SequenceTagger\n",
    "\n",
    "conll_03_corps_folder = 'final_corps'\n",
    "model_output_folder = 'medicine-ner'\n",
    "\n",
    "\n",
    "# load the NER tagger\n",
    "tagger = SequenceTagger.load_from_file(model_output_folder + '/final-model.pt')\n",
    "\n",
    "def detect(tagger, text):\n",
    "    print('===============================================')\n",
    "    sentence = Sentence(text)\n",
    "    tagger.predict(sentence)\n",
    "    print(sentence)\n",
    "    print('--------------------------------')\n",
    "\n",
    "    # iterate over entities and print\n",
    "    for entity in sentence.get_spans('ner'):\n",
    "        print(entity)\n"
   ]
  },
  {
   "cell_type": "markdown",
   "metadata": {},
   "source": [
    "# Example Fluoxetine"
   ]
  },
  {
   "cell_type": "markdown",
   "metadata": {},
   "source": [
    "### PMC article : Fluoxetine"
   ]
  },
  {
   "cell_type": "markdown",
   "metadata": {},
   "source": [
    "![title](fluoxetine_article.png)"
   ]
  },
  {
   "cell_type": "code",
   "execution_count": 18,
   "metadata": {},
   "outputs": [
    {
     "name": "stdout",
     "output_type": "stream",
     "text": [
      "===============================================\n",
      "Sentence: \"Chronic Fluoxetine Induces the Enlargement of Perforant Path-Granule Cell Synapses in the Mouse Dentate Gyrus\" - 15 Tokens\n",
      "--------------------------------\n",
      "MEDICINE-span [2]: \"Fluoxetine\"\n"
     ]
    }
   ],
   "source": [
    "detect(tagger, \"\"\"Chronic Fluoxetine Induces the Enlargement of Perforant Path-Granule Cell Synapses in the Mouse Dentate Gyrus\"\"\")"
   ]
  },
  {
   "cell_type": "markdown",
   "metadata": {},
   "source": [
    "### Twitter : Fluoxetine"
   ]
  },
  {
   "cell_type": "markdown",
   "metadata": {},
   "source": [
    "![title](fluoxetine_user.png)"
   ]
  },
  {
   "cell_type": "code",
   "execution_count": 19,
   "metadata": {},
   "outputs": [
    {
     "name": "stdout",
     "output_type": "stream",
     "text": [
      "===============================================\n",
      "Sentence: \"sleepless nights, feeling worthless, lifes trash, this shit aint worth it man, fluoxetine isnt doing nothing. ive come to conclusion life is fucking worthless and i wish everyone the best, fuck this, i cant handle this shit mentally anymore, fuck life, im done with life. bye\" - 46 Tokens\n",
      "--------------------------------\n",
      "MEDICINE-span [13]: \"fluoxetine\"\n"
     ]
    }
   ],
   "source": [
    "# Recognize\n",
    "detect(tagger, \"\"\"sleepless nights, feeling worthless, lifes trash, this shit aint worth it man, fluoxetine isnt doing nothing. ive come to conclusion life is fucking worthless and i wish everyone the best, fuck this, i cant handle this shit mentally anymore, fuck life,  im done with life.  bye\"\"\")"
   ]
  },
  {
   "cell_type": "markdown",
   "metadata": {},
   "source": [
    "## example fluoxetine twitter 1"
   ]
  },
  {
   "cell_type": "markdown",
   "metadata": {},
   "source": [
    "![title](fluoxetine_pmc.png)"
   ]
  },
  {
   "cell_type": "code",
   "execution_count": 20,
   "metadata": {},
   "outputs": [
    {
     "name": "stdout",
     "output_type": "stream",
     "text": [
      "===============================================\n",
      "Sentence: \"Publication alert: combining CBT with #fluoxetine might be superior to either therapy for adolescents with #depression. Model-based random forest method applied in a study by @HeidiBaya Seibold, T.Hothorn, S.Foster, M.Mohler-Kuo,\" - 30 Tokens\n",
      "--------------------------------\n",
      "ORG-span [4]: \"CBT\"\n",
      "MEDICINE-span [6]: \"#fluoxetine\"\n"
     ]
    }
   ],
   "source": [
    "# Twitter \n",
    "detect(tagger, \"\"\"Publication alert: combining CBT with #fluoxetine might be superior to either therapy for adolescents with #depression. Model-based random forest method applied in a study by @HeidiBaya Seibold, T.Hothorn, S.Foster, M.Mohler-Kuo, \"\"\")"
   ]
  },
  {
   "cell_type": "markdown",
   "metadata": {},
   "source": [
    "### Not detected"
   ]
  },
  {
   "cell_type": "code",
   "execution_count": 21,
   "metadata": {},
   "outputs": [
    {
     "name": "stdout",
     "output_type": "stream",
     "text": [
      "===============================================\n",
      "Sentence: \"Starting back on fluoxetine tonight, I did pick up the prescription a few days ago but in the past when I’ve started/upped meds I’ve had to call in sick to work due to side effects. So I waited. Now I have 3 days off to adjust\" - 46 Tokens\n",
      "--------------------------------\n",
      "ORG-span [21]: \"I’ve\"\n",
      "PER-span [24]: \"I’ve\"\n",
      "DATE-span [42,43]: \"3 days\"\n"
     ]
    }
   ],
   "source": [
    "# Problem \n",
    "detect(tagger, \"\"\"Starting back on fluoxetine tonight, I did pick up the prescription a few days ago but in the past when I’ve started/upped meds I’ve had to call in sick to work due to side effects. So I waited. Now I have 3 days off to adjust\"\"\")"
   ]
  },
  {
   "cell_type": "code",
   "execution_count": null,
   "metadata": {},
   "outputs": [],
   "source": []
  }
 ],
 "metadata": {
  "kernelspec": {
   "display_name": "Python 3",
   "language": "python",
   "name": "python3"
  },
  "language_info": {
   "codemirror_mode": {
    "name": "ipython",
    "version": 3
   },
   "file_extension": ".py",
   "mimetype": "text/x-python",
   "name": "python",
   "nbconvert_exporter": "python",
   "pygments_lexer": "ipython3",
   "version": "3.7.1"
  }
 },
 "nbformat": 4,
 "nbformat_minor": 2
}
